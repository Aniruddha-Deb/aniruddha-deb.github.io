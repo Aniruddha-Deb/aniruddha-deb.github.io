{
 "cells": [
  {
   "cell_type": "code",
   "execution_count": 115,
   "id": "a4268e1b-5d13-473d-a13d-4816a92b1f95",
   "metadata": {},
   "outputs": [],
   "source": [
    "import numpy as np\n",
    "\n",
    "def simulate_school(n_weeks = 52 * 2):\n",
    "\n",
    "    S = [np.random.beta(80, 80)] + [0 for i in range(n_weeks)]\n",
    "    C = [np.random.beta(80, 80)] + [0 for i in range(n_weeks)]\n",
    "    G = [0] + [0 for i in range(n_weeks)]\n",
    "\n",
    "    a_drink = [0.1] + [0 for i in range(n_weeks)]\n",
    "    a_smoke = [0.02] + [0 for i in range(n_weeks)]\n",
    "    a_date  = [0.05] + [0 for i in range(n_weeks)]\n",
    "    a_slack = [1-a_drink[0]-a_smoke[0]-a_date[0]] + [0 for i in range(n_weeks)]\n",
    "\n",
    "    MULT = 4e-3\n",
    "    S_weekday_outcomes = np.array([1, -0.5])*MULT\n",
    "    S_weekend_outcomes = np.array([0.4, -0.2, -0.2, -0.2, -0.2])*MULT\n",
    "                                  \n",
    "    C_weekday_outcomes = np.array([1, -0.2])*MULT\n",
    "    C_weekend_outcomes = np.array([0.4, -0.2, -4, -2, -2])*MULT\n",
    "    \n",
    "    weekday_actions = []\n",
    "    weekend_actions = []\n",
    "\n",
    "    for t in range(0, n_weeks):\n",
    "\n",
    "        # weekday distrib\n",
    "        P_weekday = np.array([\n",
    "            C[t],   # study\n",
    "            1-C[t], # slack off\n",
    "        ])\n",
    "\n",
    "        P_weekend = np.array([\n",
    "            C[t],   # study\n",
    "            a_slack[t] * (1-C[t]), # slack off\n",
    "            a_smoke[t] * (1-C[t]), # smoke\n",
    "            a_date[t]  * (1-C[t]), # date\n",
    "            a_drink[t] * (1-C[t]), # drink\n",
    "        ])\n",
    "        \n",
    "        # https://stackoverflow.com/questions/46539431/np-random-choice-probabilities-do-not-sum-to-1\n",
    "        P_weekday /= sum(P_weekday)\n",
    "        P_weekend /= sum(P_weekend)\n",
    "\n",
    "        weekday_action = np.random.choice(2, p=P_weekday)\n",
    "        weekend_action = np.random.choice(5, p=P_weekend)\n",
    "        \n",
    "        weekday_actions.append(weekday_action)\n",
    "        weekend_actions.append(weekend_action)\n",
    "\n",
    "        a_drink[t+1] = a_drink[t]\n",
    "        a_smoke[t+1] = a_smoke[t]\n",
    "        a_date [t+1] = a_date [t]\n",
    "        a_slack[t+1] = a_slack[t]\n",
    "\n",
    "        if weekend_action == 2:\n",
    "            a_smoke[t+1] *= 2\n",
    "        if weekend_action == 3:\n",
    "            a_date[t+1] *= 2\n",
    "        if weekend_action == 4:\n",
    "            a_drink[t+1] *= 2\n",
    "\n",
    "        a_drink[t+1] /= (a_drink[t+1] + a_smoke[t+1] + a_date[t+1] + a_slack[t+1])\n",
    "        a_smoke[t+1] /= (a_drink[t+1] + a_smoke[t+1] + a_date[t+1] + a_slack[t+1])\n",
    "        a_date [t+1] /= (a_drink[t+1] + a_smoke[t+1] + a_date[t+1] + a_slack[t+1])\n",
    "        a_slack[t+1] /= (a_drink[t+1] + a_smoke[t+1] + a_date[t+1] + a_slack[t+1])\n",
    "\n",
    "        S[t+1] = S[t] + \\\n",
    "                 S_weekday_outcomes[weekday_action] + \\\n",
    "                 S_weekend_outcomes[weekend_action]\n",
    "\n",
    "        C[t+1] = C[t] + \\\n",
    "                 C_weekday_outcomes[weekday_action] + \\\n",
    "                 C_weekend_outcomes[weekend_action] + \\\n",
    "                 np.random.normal(0,0.001)\n",
    "        \n",
    "        C[t+1] = np.clip(C[t+1], 0, 1)\n",
    "        S[t+1] = np.clip(S[t+1], 0, 1)\n",
    "\n",
    "        G[t+1] = np.random.triangular(C[t+1]*S[t+1]-1e-6, S[t+1], S[t+1])\n",
    "\n",
    "    \n",
    "    return S, C, G, [a_drink, a_smoke, a_date, a_slack], [weekday_actions, weekend_actions]\n",
    "    \n"
   ]
  },
  {
   "cell_type": "code",
   "execution_count": 116,
   "id": "90a43c9a-a047-4191-8978-4e858f3e024d",
   "metadata": {},
   "outputs": [],
   "source": [
    "res = []\n",
    "for i in range(10000):\n",
    "    res.append(simulate_school(n_weeks=52*2))"
   ]
  },
  {
   "cell_type": "code",
   "execution_count": 130,
   "id": "0281f882-87e3-4eed-ba1b-13a08a76d2a1",
   "metadata": {},
   "outputs": [
    {
     "data": {
      "text/plain": [
       "(array([294.,  19.,  31.,  28.,  31.,  31.,  31.,  36.,  47.,  44.,  44.,\n",
       "         47.,  54.,  66.,  60.,  55.,  55.,  78.,  80.,  68.,  87.,  78.,\n",
       "         81.,  95.,  87., 114., 103., 113., 106., 118., 116., 119., 106.,\n",
       "        130., 125., 132., 112., 141., 128., 150., 156., 163., 162., 168.,\n",
       "        145., 164., 173., 162., 193., 171., 155., 170., 157., 157., 163.,\n",
       "        158., 160., 155., 168., 135., 145., 128., 140., 148., 150., 140.,\n",
       "        148., 121., 136., 126., 132., 113., 104., 128., 114., 105., 108.,\n",
       "        115., 101.,  71.,  75.,  87.,  81.,  60.,  63.,  56.,  51.,  47.,\n",
       "         48.,  39.,  49.,  32.,  29.,  23.,  20.,  14.,  16.,  12.,   9.,\n",
       "         41.]),\n",
       " array([0.  , 0.01, 0.02, 0.03, 0.04, 0.05, 0.06, 0.07, 0.08, 0.09, 0.1 ,\n",
       "        0.11, 0.12, 0.13, 0.14, 0.15, 0.16, 0.17, 0.18, 0.19, 0.2 , 0.21,\n",
       "        0.22, 0.23, 0.24, 0.25, 0.26, 0.27, 0.28, 0.29, 0.3 , 0.31, 0.32,\n",
       "        0.33, 0.34, 0.35, 0.36, 0.37, 0.38, 0.39, 0.4 , 0.41, 0.42, 0.43,\n",
       "        0.44, 0.45, 0.46, 0.47, 0.48, 0.49, 0.5 , 0.51, 0.52, 0.53, 0.54,\n",
       "        0.55, 0.56, 0.57, 0.58, 0.59, 0.6 , 0.61, 0.62, 0.63, 0.64, 0.65,\n",
       "        0.66, 0.67, 0.68, 0.69, 0.7 , 0.71, 0.72, 0.73, 0.74, 0.75, 0.76,\n",
       "        0.77, 0.78, 0.79, 0.8 , 0.81, 0.82, 0.83, 0.84, 0.85, 0.86, 0.87,\n",
       "        0.88, 0.89, 0.9 , 0.91, 0.92, 0.93, 0.94, 0.95, 0.96, 0.97, 0.98,\n",
       "        0.99, 1.  ]),\n",
       " <BarContainer object of 100 artists>)"
      ]
     },
     "execution_count": 130,
     "metadata": {},
     "output_type": "execute_result"
    },
    {
     "data": {
      "image/png": "[encoded data removed]",
      "text/plain": [
       "<Figure size 640x480 with 1 Axes>"
      ]
     },
     "metadata": {},
     "output_type": "display_data"
    }
   ],
   "source": [
    "import matplotlib.pyplot as plt\n",
    "final_grades = []\n",
    "for eg in res:\n",
    "    final_grades.append(eg[1][-1])\n",
    "\n",
    "plt.hist(final_grades, bins=100)\n",
    "plt.savefig('self_control'), "
   ]
  },
  {
   "cell_type": "code",
   "execution_count": null,
   "id": "41637997-4291-4dc7-9ea5-fafcf9a26a97",
   "metadata": {},
   "outputs": [],
   "source": []
  }
 ],
 "metadata": {
  "kernelspec": {
   "display_name": "Python 3 (ipykernel)",
   "language": "python",
   "name": "python3"
  },
  "language_info": {
   "codemirror_mode": {
    "name": "ipython",
    "version": 3
   },
   "file_extension": ".py",
   "mimetype": "text/x-python",
   "name": "python",
   "nbconvert_exporter": "python",
   "pygments_lexer": "ipython3",
   "version": "3.9.16"
  }
 },
 "nbformat": 4,
 "nbformat_minor": 5
}
